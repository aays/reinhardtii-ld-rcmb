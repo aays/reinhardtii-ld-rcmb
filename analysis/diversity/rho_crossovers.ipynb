{
 "cells": [
  {
   "cell_type": "code",
   "execution_count": null,
   "metadata": {},
   "outputs": [],
   "source": [
    "%%bash\n",
    "zcat ../../data/annotation_table_rho.txt.gz \\\n",
    "|grep -v \"^#\" \\\n",
    "| awk '{print $(NF-0)}' \\\n",
    "|sort -n - \\\n",
    "|uniq -c >rho_counts.txt"
   ]
  },
  {
   "cell_type": "code",
   "execution_count": null,
   "metadata": {},
   "outputs": [],
   "source": [
    "import os\n",
    "os.chdir('../../data/diversity/')"
   ]
  },
  {
   "cell_type": "code",
   "execution_count": null,
   "metadata": {},
   "outputs": [],
   "source": [
    "import pandas as pd\n",
    "rho_df = pd.read_table('rho_counts.txt', sep=\"\\s\", na_values=\".\", names=['count', 'rho'])\n",
    "rho_df.head()\n",
    "\n",
    "print(rho_df.rho.min(), rho_df.rho.max())\n",
    "\n"
   ]
  },
  {
   "cell_type": "markdown",
   "metadata": {},
   "source": [
    "based on figure 1 the vast majority of windows are done by 0.06\n",
    "\n",
    "so lets go 50 windows from 0 to 0.06"
   ]
  },
  {
   "cell_type": "code",
   "execution_count": null,
   "metadata": {},
   "outputs": [],
   "source": [
    "bins = [(i/1000, i/1000 + 1/1000) for i in range(61)]\n",
    "\n",
    "r_hist  = {}\n",
    "for b in bins:\n",
    "    r_hist[b] = {'sites':0, 'COs':0}\n",
    "    \n",
    "\n",
    "for l in open('rho_counts.txt'):\n",
    "    try:\n",
    "        site_count, rho = int(l.strip().split()[0]), float(l.strip().split()[1])\n",
    "    except:\n",
    "        print(l)\n",
    "        continue\n",
    "    for b in bins:\n",
    "        if  b[0] <= rho < b[1]:\n",
    "            r_hist[b]['sites'] += site_count\n",
    "            break\n",
    "\n",
    "            "
   ]
  },
  {
   "cell_type": "code",
   "execution_count": null,
   "metadata": {},
   "outputs": [],
   "source": [
    "for l in open(\"all_break_points_rho.txt\"):\n",
    "    if not l.startswith('cross'):\n",
    "        rho = float(l.strip().split(',')[-1])\n",
    "        for b in bins:\n",
    "            if  b[0] <= rho < b[1]:\n",
    "                r_hist[b]['COs'] += 1\n",
    "                break"
   ]
  },
  {
   "cell_type": "code",
   "execution_count": null,
   "metadata": {},
   "outputs": [],
   "source": [
    "r_hist"
   ]
  },
  {
   "cell_type": "code",
   "execution_count": null,
   "metadata": {},
   "outputs": [],
   "source": [
    "\n",
    "import matplotlib.pyplot\n",
    "import pylab\n",
    "import numpy as np \n",
    "\n",
    "mid_x = [(b[1] + b[0])/2 for b in bins if r_hist[b]['sites'] >0]\n",
    "CO_density =  [r_hist[b]['COs']/r_hist[b]['sites'] for b in bins if r_hist[b]['sites'] >0 ]\n",
    "\n",
    "CO_density\n",
    "\n",
    "matplotlib.pyplot.scatter(mid_x,np.log(CO_density))\n"
   ]
  },
  {
   "cell_type": "code",
   "execution_count": null,
   "metadata": {},
   "outputs": [],
   "source": [
    "rho_midpoints = [(b[0]+b[1])/2 for b in bins ]\n",
    "COs = [r_hist[b]['COs'] for b in bins]\n",
    "CO_density =  [r_hist[b]['COs']/r_hist[b]['sites'] for b in bins]\n",
    "sites = [r_hist[b]['sites'] for b in bins]\n",
    "\n",
    "\n",
    "df = pd.DataFrame.from_dict({'rho_midpoints':rho_midpoints,\n",
    "                             \"COs\": COs,\n",
    "                             \"CO_density\":CO_density,\n",
    "                             \"sites\":sites,\n",
    "                             \"bins\":bins\n",
    "                            })\n",
    "\n",
    "df['log_CO_density'] = np.log(df.CO_density+1)"
   ]
  },
  {
   "cell_type": "code",
   "execution_count": null,
   "metadata": {},
   "outputs": [],
   "source": [
    "df"
   ]
  },
  {
   "cell_type": "code",
   "execution_count": null,
   "metadata": {},
   "outputs": [],
   "source": [
    "df.plot(kind='scatter', x='rho_midpoints', y='log_CO_density', ylim=(0, 0.0001) )"
   ]
  },
  {
   "cell_type": "code",
   "execution_count": null,
   "metadata": {},
   "outputs": [],
   "source": [
    "import scipy.stats  as stats\n",
    "\n",
    "#df_filter = df[(df.sites>500000)]\n",
    "df_filter = df[df.COs >0]\n",
    "df_filter = df\n",
    "df_filter.plot(kind='scatter',x='rho_midpoints',y='log_CO_density')\n",
    "print(\"Correlation: \", df_filter.rho_midpoints.corr(df_filter.CO_density))\n",
    "fit  = stats.pearsonr(df_filter['rho_midpoints'], df_filter['CO_density'])\n",
    "print(fit)\n",
    "#df_filter"
   ]
  },
  {
   "cell_type": "code",
   "execution_count": null,
   "metadata": {},
   "outputs": [],
   "source": [
    "df.to_csv(\"rho_to_CO_density.txt\")"
   ]
  },
  {
   "cell_type": "code",
   "execution_count": null,
   "metadata": {},
   "outputs": [],
   "source": [
    "df.dropna()"
   ]
  },
  {
   "cell_type": "code",
   "execution_count": null,
   "metadata": {},
   "outputs": [],
   "source": []
  }
 ],
 "metadata": {
  "jupytext": {},
  "kernelspec": {
   "display_name": "Python 3",
   "language": "python",
   "name": "python3"
  },
  "language_info": {
   "codemirror_mode": {
    "name": "ipython",
    "version": 3
   },
   "file_extension": ".py",
   "mimetype": "text/x-python",
   "name": "python",
   "nbconvert_exporter": "python",
   "pygments_lexer": "ipython3",
   "version": "3.5.1"
  }
 },
 "nbformat": 4,
 "nbformat_minor": 2
}
